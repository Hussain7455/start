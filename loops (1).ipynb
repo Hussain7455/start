{
 "cells": [
  {
   "cell_type": "code",
   "execution_count": 3,
   "id": "0dc1b9fa-e3a3-4ae9-b7d6-a6cc27df4065",
   "metadata": {},
   "outputs": [
    {
     "ename": "NameError",
     "evalue": "name 'Question1' is not defined",
     "output_type": "error",
     "traceback": [
      "\u001b[0;31m---------------------------------------------------------------------------\u001b[0m",
      "\u001b[0;31mNameError\u001b[0m                                 Traceback (most recent call last)",
      "Cell \u001b[0;32mIn[3], line 1\u001b[0m\n\u001b[0;32m----> 1\u001b[0m \u001b[43mQuestion1\u001b[49m\n",
      "\u001b[0;31mNameError\u001b[0m: name 'Question1' is not defined"
     ]
    }
   ],
   "source": [
    "#Question1\n",
    "\n",
    "for loop is use when you known number of iteration\n",
    "but while loop is use when we have indefinite iterations when loops repeats unknown number times until the condition is met.\n",
    "example\n",
    "a set, tuple, list, map or even a string is already an iterable collection so we simply use a for loop.\n"
   ]
  },
  {
   "cell_type": "code",
   "execution_count": 12,
   "id": "d2a97a5c-b5fd-4be6-a5b4-1c2254b0bc02",
   "metadata": {},
   "outputs": [
    {
     "name": "stdout",
     "output_type": "stream",
     "text": [
      "the sum is 55\n"
     ]
    }
   ],
   "source": [
    "Question 2"
   ]
  },
  {
   "cell_type": "code",
   "execution_count": 12,
   "id": "6d88a971-c5d1-4d08-9da9-ffd21ed7bb7e",
   "metadata": {},
   "outputs": [
    {
     "name": "stdout",
     "output_type": "stream",
     "text": [
      "the sum is 55\n"
     ]
    }
   ],
   "source": [
    "#Question 2\n",
    "# sum of 10 natural number by using for loop\n",
    "sum = 0\n",
    "for i in range(1,11):\n",
    "    sum += i\n",
    "print(\"the sum is\", sum)"
   ]
  },
  {
   "cell_type": "code",
   "execution_count": 19,
   "id": "50b8baaa-1576-4a39-b4d1-3c41be3f6c60",
   "metadata": {},
   "outputs": [
    {
     "name": "stdout",
     "output_type": "stream",
     "text": [
      "the product is 3628800\n"
     ]
    }
   ],
   "source": [
    "# product of 10 natural number by using for loop\n",
    "product = 1\n",
    "\n",
    "for i in range(1,11):\n",
    "    product = product * i\n",
    "print(\"the product is\", product)"
   ]
  },
  {
   "cell_type": "code",
   "execution_count": 2,
   "id": "07ce5a46-9444-46d9-947c-630a0b1b8167",
   "metadata": {},
   "outputs": [
    {
     "name": "stdout",
     "output_type": "stream",
     "text": [
      "the sum is 55\n"
     ]
    }
   ],
   "source": [
    "# sum of 10 natural number by using while loop\n",
    "\n",
    "i = 1\n",
    "sum = 0\n",
    "\n",
    "while i<11:\n",
    "    sum = sum + i\n",
    "    i = i + 1\n",
    "print(\"the sum is\",sum)"
   ]
  },
  {
   "cell_type": "code",
   "execution_count": 3,
   "id": "fe3254f9-fe8e-450a-a93b-ab261aa76fcf",
   "metadata": {},
   "outputs": [
    {
     "name": "stdout",
     "output_type": "stream",
     "text": [
      "product is 3628800\n"
     ]
    }
   ],
   "source": [
    "# product of 10 natural number by using while loop\n",
    "i = 1\n",
    "product = 1\n",
    "\n",
    "while i < 11:\n",
    "    product = product * i\n",
    "    i = i + 1\n",
    "print(\"product is\", product)    "
   ]
  },
  {
   "cell_type": "code",
   "execution_count": 17,
   "id": "be1d27ec-5583-48d9-bd1c-286c2c02ed43",
   "metadata": {},
   "outputs": [
    {
     "name": "stdin",
     "output_type": "stream",
     "text": [
      "Enter your units :  310\n"
     ]
    },
    {
     "name": "stdout",
     "output_type": "stream",
     "text": [
      "6200\n"
     ]
    }
   ],
   "source": [
    "#Question 3\n",
    "user = int(input( \"Enter your units : \" ))\n",
    "if user <= 100:\n",
    "    user = user * 4.5\n",
    "    print(user)    \n",
    "elif user <= 200:\n",
    "    user = user * 6\n",
    "    print(user)\n",
    "elif user <= 300:\n",
    "    user = user * 10\n",
    "    print(user)\n",
    "else:\n",
    "    user = user * 20\n",
    "    print(user)\n",
    "    "
   ]
  },
  {
   "cell_type": "code",
   "execution_count": 27,
   "id": "4ff34238-4753-4669-9dcd-6ed0fe23f366",
   "metadata": {},
   "outputs": [
    {
     "name": "stdout",
     "output_type": "stream",
     "text": [
      "4 3 3 2 0\n"
     ]
    }
   ],
   "source": [
    "#Question 5\n",
    "string = \"I want to become a data scientist\"\n",
    "print(*map(string.lower().count,\"aeiou\"))"
   ]
  },
  {
   "cell_type": "code",
   "execution_count": 58,
   "id": "34dd42c7-aa65-42dc-a748-7859fb98d510",
   "metadata": {},
   "outputs": [
    {
     "ename": "IndentationError",
     "evalue": "unexpected indent (1954998046.py, line 8)",
     "output_type": "error",
     "traceback": [
      "\u001b[0;36m  Cell \u001b[0;32mIn[58], line 8\u001b[0;36m\u001b[0m\n\u001b[0;31m    if cube_list / (4,5):\u001b[0m\n\u001b[0m    ^\u001b[0m\n\u001b[0;31mIndentationError\u001b[0m\u001b[0;31m:\u001b[0m unexpected indent\n"
     ]
    }
   ],
   "source": [
    "#Question 4\n",
    "s=list(range(1,101))\n",
    "data = s\n",
    "cube_list = []\n",
    "for i in data:\n",
    "    cube = i**3\n",
    "    cube_list.append(cube)\n",
    "    print(cube_list)\n",
    "        if cube_list / (4,5):\n",
    "            print(cube_list)\n",
    "          \n",
    "\n"
   ]
  },
  {
   "cell_type": "code",
   "execution_count": null,
   "id": "0c44911b-d4f2-4e62-9686-18b0b37b5d93",
   "metadata": {},
   "outputs": [],
   "source": []
  }
 ],
 "metadata": {
  "kernelspec": {
   "display_name": "Python 3 (ipykernel)",
   "language": "python",
   "name": "python3"
  },
  "language_info": {
   "codemirror_mode": {
    "name": "ipython",
    "version": 3
   },
   "file_extension": ".py",
   "mimetype": "text/x-python",
   "name": "python",
   "nbconvert_exporter": "python",
   "pygments_lexer": "ipython3",
   "version": "3.10.8"
  }
 },
 "nbformat": 4,
 "nbformat_minor": 5
}
